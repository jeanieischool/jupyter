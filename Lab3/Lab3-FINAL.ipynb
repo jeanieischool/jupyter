{
 "cells": [
  {
   "cell_type": "markdown",
   "metadata": {},
   "source": [
    "#### Library imports"
   ]
  },
  {
   "cell_type": "code",
   "execution_count": 79,
   "metadata": {
    "collapsed": false
   },
   "outputs": [
    {
     "name": "stdout",
     "output_type": "stream",
     "text": [
      "Populating the interactive namespace from numpy and matplotlib\n"
     ]
    },
    {
     "name": "stderr",
     "output_type": "stream",
     "text": [
      "/Users/Proxima/anaconda/envs/py35/lib/python3.5/site-packages/matplotlib/__init__.py:1350: UserWarning:  This call to matplotlib.use() has no effect\n",
      "because the backend has already been chosen;\n",
      "matplotlib.use() must be called *before* pylab, matplotlib.pyplot,\n",
      "or matplotlib.backends is imported for the first time.\n",
      "\n",
      "  warnings.warn(_use_error_msg)\n",
      "WARNING: pylab import has clobbered these variables: ['mean', 'random']\n",
      "`%matplotlib` prevents importing * from pylab and numpy\n"
     ]
    }
   ],
   "source": [
    "import numpy as np\n",
    "import pandas as pd\n",
    "from sklearn.cluster import KMeans\n",
    "\n",
    "import matplotlib\n",
    "matplotlib.use('TkAgg')\n",
    "%matplotlib inline\n",
    "%pylab inline\n",
    "import matplotlib.pyplot as plt\n",
    "from scipy.spatial.distance import cdist, pdist\n",
    "import random"
   ]
  },
  {
   "cell_type": "code",
   "execution_count": 80,
   "metadata": {
    "collapsed": false
   },
   "outputs": [],
   "source": [
    "# import data\n",
    "yelp_reviews = pd.read_csv('yelp_reviewers.txt',sep='|',header=0)\n",
    "yelp_reviews = yelp_reviews.fillna(0)\n",
    "\n",
    "# sample data\n",
    "rows = yelp_reviews.sample(10000)"
   ]
  },
  {
   "cell_type": "markdown",
   "metadata": {},
   "source": [
    "### Plotting silhouette scores for clusters"
   ]
  },
  {
   "cell_type": "code",
   "execution_count": 81,
   "metadata": {
    "collapsed": false
   },
   "outputs": [],
   "source": [
    "from sklearn.metrics import silhouette_score\n",
    "\n",
    "def plot_silhouette_scores(data_set):\n",
    "    s=[]\n",
    "    for n_clusters in range(2,9):\n",
    "        kmeans = KMeans(n_clusters=n_clusters)\n",
    "        kmeans.fit(data_set)\n",
    "    \n",
    "        labels = kmeans.labels_\n",
    "        centroids = kmeans.cluster_centers_\n",
    "    \n",
    "        s.append(silhouette_score(data_set,labels,metric='euclidean'))\n",
    "        \n",
    "    plt.plot(s)"
   ]
  },
  {
   "cell_type": "markdown",
   "metadata": {},
   "source": [
    "### Q2. Clusters for features: q4,q5,q6"
   ]
  },
  {
   "cell_type": "code",
   "execution_count": 82,
   "metadata": {
    "collapsed": false
   },
   "outputs": [],
   "source": [
    "X1 = rows[['q4','q5','q6']]"
   ]
  },
  {
   "cell_type": "code",
   "execution_count": 83,
   "metadata": {
    "collapsed": false,
    "scrolled": true
   },
   "outputs": [
    {
     "data": {
      "image/png": "[encoded data removed]",
      "text/plain": [
       "<matplotlib.figure.Figure at 0x10a05c048>"
      ]
     },
     "metadata": {},
     "output_type": "display_data"
    }
   ],
   "source": [
    "plot_silhouette_scores(X1)"
   ]
  },
  {
   "cell_type": "markdown",
   "metadata": {},
   "source": [
    "### Q3. Clusters for features: q8,q9,q10"
   ]
  },
  {
   "cell_type": "code",
   "execution_count": 144,
   "metadata": {
    "collapsed": false
   },
   "outputs": [
    {
     "name": "stderr",
     "output_type": "stream",
     "text": [
      "/Users/Proxima/anaconda/envs/py35/lib/python3.5/site-packages/pandas/core/indexing.py:508: SettingWithCopyWarning: \n",
      "A value is trying to be set on a copy of a slice from a DataFrame.\n",
      "Try using .loc[row_indexer,col_indexer] = value instead\n",
      "\n",
      "See the caveats in the documentation: http://pandas.pydata.org/pandas-docs/stable/indexing.html#indexing-view-versus-copy\n",
      "  self.obj[item_labels[indexer[info_axis]]] = value\n"
     ]
    }
   ],
   "source": [
    "features = ['q8','q9','q10']\n",
    "X2 = rows[features]\n",
    "\n",
    "for col in features:\n",
    "    col_mean = X2[col].replace([np.inf,-np.inf],np.nan).dropna().mean()\n",
    "    c = X2[col].replace([np.inf,-np.inf],col_mean)\n",
    "    X2[col] = c"
   ]
  },
  {
   "cell_type": "code",
   "execution_count": 115,
   "metadata": {
    "collapsed": false
   },
   "outputs": [
    {
     "data": {
      "image/png": "[encoded data removed]",
      "text/plain": [
       "<matplotlib.figure.Figure at 0x109415278>"
      ]
     },
     "metadata": {},
     "output_type": "display_data"
    }
   ],
   "source": [
    "plot_silhouette_scores(X2)"
   ]
  },
  {
   "cell_type": "markdown",
   "metadata": {},
   "source": [
    "### Q4. Clusters for features: q11,q12,13"
   ]
  },
  {
   "cell_type": "code",
   "execution_count": 23,
   "metadata": {
    "collapsed": true
   },
   "outputs": [],
   "source": [
    "X3 = rows[['q11','q12','q13']]"
   ]
  },
  {
   "cell_type": "code",
   "execution_count": 24,
   "metadata": {
    "collapsed": false
   },
   "outputs": [
    {
     "data": {
      "image/png": "[encoded data removed]",
      "text/plain": [
       "<matplotlib.figure.Figure at 0x109fe8eb8>"
      ]
     },
     "metadata": {},
     "output_type": "display_data"
    }
   ],
   "source": [
    "plot_silhouette_scores(X3)"
   ]
  },
  {
   "cell_type": "markdown",
   "metadata": {},
   "source": [
    "### Q5. Inspect best clustering generated in Q4"
   ]
  },
  {
   "cell_type": "code",
   "execution_count": 29,
   "metadata": {
    "collapsed": false
   },
   "outputs": [
    {
     "name": "stdout",
     "output_type": "stream",
     "text": [
      "{0: 3264, 1: 2427, 2: 581, 3: 264, 4: 641, 5: 1251, 6: 1393, 7: 179}\n"
     ]
    }
   ],
   "source": [
    "# Best value of k=8 above\n",
    "k_means_8 = KMeans(n_clusters=8).fit(X3)\n",
    "k8_labels = k_means_8.labels_\n",
    "\n",
    "clusters = {}\n",
    "for label in k8_labels:\n",
    "    try:\n",
    "        clusters[label] += 1\n",
    "    except:\n",
    "        clusters[label] = 1\n",
    "\n",
    "print (clusters)\n",
    "# print (X3)"
   ]
  },
  {
   "cell_type": "code",
   "execution_count": 30,
   "metadata": {
    "collapsed": false
   },
   "outputs": [
    {
     "data": {
      "image/png": "[encoded data removed]",
      "text/plain": [
       "<matplotlib.figure.Figure at 0x10a006208>"
      ]
     },
     "metadata": {},
     "output_type": "display_data"
    }
   ],
   "source": [
    "k8_centroids = k_means_8.cluster_centers_\n",
    "for i in range(8):        \n",
    "    df = X3[k8_labels==i]\n",
    "    # plot observations\n",
    "    plt.plot(df['q12'],df['q13'],'o')\n",
    "    # plot centroid\n",
    "    lines = plt.plot(k8_centroids[i,0],k8_centroids[i,1],'kx')\n",
    "    # make the centroid x's bigger\n",
    "    plt.setp(lines,ms=15.0)\n",
    "    plt.setp(lines,mew=2.0)\n",
    "\n",
    "pylab.rcParams['figure.figsize'] = (40, 24) \n",
    "plt.show()"
   ]
  },
  {
   "cell_type": "code",
   "execution_count": 31,
   "metadata": {
    "collapsed": false
   },
   "outputs": [
    {
     "name": "stdout",
     "output_type": "stream",
     "text": [
      "[ -4.05009359e-13  -5.50670620e-14  -1.41398004e-12]\n",
      "[  0.29314949   0.51767891  99.18917159]\n",
      "[  3.38996485  41.57050591  55.03952924]\n",
      "[  0.932095    97.0032869    2.06461811]\n",
      "[ 48.77176497   2.09247259  49.13576245]\n",
      "[ 24.23671051   8.30730793  67.45598155]\n",
      "[ 30.98767756  28.83295082  40.17937162]\n",
      "[ 98.67783985   0.37243948   0.94972067]\n"
     ]
    }
   ],
   "source": [
    "for centroid in k8_centroids:\n",
    "    print(centroid)    "
   ]
  },
  {
   "cell_type": "markdown",
   "metadata": {},
   "source": [
    "##### The centroid of cluster that has almost equal weight of all 3 features is that of label 4 [ 31.35174902  28.53157027  40.11668071]. "
   ]
  },
  {
   "cell_type": "code",
   "execution_count": 32,
   "metadata": {
    "collapsed": false
   },
   "outputs": [
    {
     "name": "stdout",
     "output_type": "stream",
     "text": [
      "641\n"
     ]
    }
   ],
   "source": [
    "print (clusters[4])"
   ]
  },
  {
   "cell_type": "markdown",
   "metadata": {},
   "source": [
    "### Q6. Clustering with k=5, q8-13,q15 & q17"
   ]
  },
  {
   "cell_type": "code",
   "execution_count": 116,
   "metadata": {
    "collapsed": false
   },
   "outputs": [],
   "source": [
    "features = ['q8','q9','q10','q11','q12','q13','q15','q17']\n",
    "X4 = rows[features]\n",
    "# remove rows with inf\n",
    "# X4.replace([np.inf, -np.inf], np.nan).dropna\n",
    "# X4['q8'].replace([np.inf,-np.inf],q8_mean)\n",
    "# X4['q9'].replace([np.inf,-np.inf],q9_mean)\n",
    "# X4['q10'].replace([np.inf,-np.inf],q10_mean)\n",
    "\n",
    "for col in features:\n",
    "    col_mean = X4[col].replace([np.inf,-np.inf],np.nan).dropna().mean()\n",
    "    c = X4[col].replace([np.inf,-np.inf],col_mean)\n",
    "    X4[col] = c"
   ]
  },
  {
   "cell_type": "markdown",
   "metadata": {},
   "source": [
    "##### Calculate silhouette rating"
   ]
  },
  {
   "cell_type": "code",
   "execution_count": 117,
   "metadata": {
    "collapsed": false
   },
   "outputs": [
    {
     "name": "stdout",
     "output_type": "stream",
     "text": [
      "0.512252203576\n"
     ]
    }
   ],
   "source": [
    "kmeans = KMeans(n_clusters=5)\n",
    "kmeans.fit(X4)\n",
    "    \n",
    "labels = kmeans.labels_\n",
    "k5_centroids = kmeans.cluster_centers_\n",
    "    \n",
    "s = silhouette_score(X4,labels,metric='euclidean')\n",
    "print (s)"
   ]
  },
  {
   "cell_type": "code",
   "execution_count": 118,
   "metadata": {
    "collapsed": false
   },
   "outputs": [
    {
     "name": "stdout",
     "output_type": "stream",
     "text": [
      "{0: 3.2045584248212555, 1: 3.9483960042218365, 2: 3.5625578597406951, 3: 2.8925802139037433, 4: 3.733616716736889}\n"
     ]
    }
   ],
   "source": [
    "from statistics import mean\n",
    "\n",
    "ratings = {}\n",
    "for i in range(5):\n",
    "    cluster_indices = X4[labels==i].index.values\n",
    "    avg_star_ratings = mean([rows.ix[index]['q14'] for index in cluster_indices])\n",
    "    ratings[i] = avg_star_ratings\n",
    "\n",
    "print (ratings)"
   ]
  },
  {
   "cell_type": "markdown",
   "metadata": {},
   "source": [
    "### Q7"
   ]
  },
  {
   "cell_type": "code",
   "execution_count": 119,
   "metadata": {
    "collapsed": true
   },
   "outputs": [],
   "source": [
    "# create dataset\n",
    "# import data\n",
    "yelp_reviews = pd.read_csv('yelp_reviewers.txt',sep='|',header=0)\n",
    "cols = ['q8','q9','q10','q11','q12','q13','q15','q17','q18-1','q18-2','q18-3','q18-4','q18-5','q18-6','q18-7','q18-8','q18-9','q18-10a','q18-10b','q18-10c','q18-10d','q18-10e','q18-10f','q18-10g','q18-10h']\n",
    "# sample data\n",
    "# rows = yelp_reviews.sample(10000)\n",
    "rows = rows[cols]"
   ]
  },
  {
   "cell_type": "code",
   "execution_count": 120,
   "metadata": {
    "collapsed": false
   },
   "outputs": [],
   "source": [
    "# drop columns with high inf/-inf/nan values\n",
    "for column in cols:\n",
    "    df = rows[column]\n",
    "    if (sum([0 if np.isnan(row) else 1 for row in df])) in range(0,100):\n",
    "        cols.remove(column)\n",
    "\n",
    "X5 = rows[cols]"
   ]
  },
  {
   "cell_type": "markdown",
   "metadata": {},
   "source": [
    "#### Calculate silhouette metric "
   ]
  },
  {
   "cell_type": "code",
   "execution_count": null,
   "metadata": {
    "collapsed": false
   },
   "outputs": [],
   "source": [
    "# replace all NaN by 0\n",
    "X5.replace(np.nan,0)\n",
    "\n",
    "for col in cols:\n",
    "    col_mean = X5[col].replace([np.inf,-np.inf],np.nan).dropna().mean()\n",
    "#     print(col_mean)\n",
    "    c = X5[col].replace(np.inf,col_mean)\n",
    "    X5[col] = c\n",
    "# X5[isinf(X5)].stack()"
   ]
  },
  {
   "cell_type": "code",
   "execution_count": 146,
   "metadata": {
    "collapsed": false
   },
   "outputs": [
    {
     "data": {
      "image/png": "[encoded data removed]",
      "text/plain": [
       "<matplotlib.figure.Figure at 0x10a059be0>"
      ]
     },
     "metadata": {},
     "output_type": "display_data"
    }
   ],
   "source": [
    "plot_silhouette_scores(X5)"
   ]
  },
  {
   "cell_type": "markdown",
   "metadata": {},
   "source": [
    "#### Calculate sum of within-cluster variance metric"
   ]
  },
  {
   "cell_type": "code",
   "execution_count": 147,
   "metadata": {
    "collapsed": true
   },
   "outputs": [],
   "source": [
    "def plot_wcss_scores(data_set):\n",
    "    s=[]\n",
    "    for n_clusters in range(2,9):\n",
    "        kmeans = KMeans(n_clusters=n_clusters)\n",
    "        kmeans.fit(data_set)\n",
    "    \n",
    "        labels = kmeans.labels_\n",
    "        centroids = kmeans.cluster_centers_\n",
    "        c_interia = kmeans.inertia_\n",
    "    \n",
    "        s.append(c_interia)\n",
    "        \n",
    "    plt.plot(s)"
   ]
  },
  {
   "cell_type": "code",
   "execution_count": 148,
   "metadata": {
    "collapsed": false
   },
   "outputs": [
    {
     "data": {
      "image/png": "[encoded data removed]",
      "text/plain": [
       "<matplotlib.figure.Figure at 0x109b515f8>"
      ]
     },
     "metadata": {},
     "output_type": "display_data"
    }
   ],
   "source": [
    "plot_wcss_scores(X5)"
   ]
  },
  {
   "cell_type": "code",
   "execution_count": null,
   "metadata": {
    "collapsed": true
   },
   "outputs": [],
   "source": []
  }
 ],
 "metadata": {
  "kernelspec": {
   "display_name": "Python 2",
   "language": "python",
   "name": "python2"
  },
  "language_info": {
   "codemirror_mode": {
    "name": "ipython",
    "version": 2
   },
   "file_extension": ".py",
   "mimetype": "text/x-python",
   "name": "python",
   "nbconvert_exporter": "python",
   "pygments_lexer": "ipython2",
   "version": "2.7.6"
  }
 },
 "nbformat": 4,
 "nbformat_minor": 0
}
